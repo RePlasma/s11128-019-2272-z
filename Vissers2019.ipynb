{
 "cells": [
  {
   "cell_type": "markdown",
   "metadata": {},
   "source": [
    "# Implementing quantum stochastic differential equations on a quantum computer\n",
    "\n",
    "Gé Vissers & Luc Bouten \n",
    "https://link.springer.com/article/10.1007/s11128-019-2272-z\n",
    "\n",
    "```\n",
    "!pip install --upgrade qiskit\n",
    "!pip install qiskit-terra[qasm3-import]\n",
    "```"
   ]
  },
  {
   "cell_type": "code",
   "execution_count": 23,
   "metadata": {},
   "outputs": [],
   "source": [
    "nshots = 8000\n",
    "import warnings\n",
    "warnings.simplefilter('ignore')\n",
    "import qiskit.qasm3\n",
    "from numpy import sqrt, log, exp, sin, cos\n",
    "\n",
    "# import packages\n",
    "from qiskit import QuantumRegister, ClassicalRegister, QuantumCircuit\n",
    "from qiskit.quantum_info import Statevector\n",
    "from numpy import pi\n",
    "import numpy as np\n",
    "import matplotlib.pyplot as plt\n",
    "# Run our circuit on the least busy backend. Monitor the execution of the job in the queue\n",
    "from qiskit.tools.monitor import job_monitor\n",
    "\n",
    "# importing Qiskit\n",
    "from qiskit import IBMQ, Aer\n",
    "from qiskit.providers.ibmq import least_busy\n",
    "from qiskit import QuantumCircuit, assemble, transpile\n",
    "\n",
    "# import basic plot tools\n",
    "from qiskit.visualization import plot_histogram\n",
    "\n",
    "# IBMQ\n",
    "from qiskit import IBMQ"
   ]
  },
  {
   "cell_type": "code",
   "execution_count": 20,
   "metadata": {},
   "outputs": [
    {
     "data": {
      "image/png": "[encoded data removed]",
      "text/plain": [
       "<Figure size 688.597x385.28 with 1 Axes>"
      ]
     },
     "execution_count": 20,
     "metadata": {},
     "output_type": "execute_result"
    }
   ],
   "source": [
    "circuit = qiskit.circuit.QuantumCircuit.from_qasm_file(\"qasm_vissers.txt\")\n",
    "circuit.draw(\"mpl\")"
   ]
  },
  {
   "cell_type": "code",
   "execution_count": 25,
   "metadata": {},
   "outputs": [
    {
     "data": {
      "image/png": "[encoded data removed]",
      "text/plain": [
       "<Figure size 387.452x144.48 with 1 Axes>"
      ]
     },
     "execution_count": 25,
     "metadata": {},
     "output_type": "execute_result"
    }
   ],
   "source": [
    "kappa = 1\n",
    "omega = 0\n",
    "Omega = 12\n",
    "lbd = sqrt(0.01)\n",
    "\n",
    "# create quantum register (bundle of qubits)\n",
    "qreg_q = QuantumRegister(2, 'q')\n",
    "\n",
    "# we could add a classical register to record\n",
    "#creg_c = ClassicalRegister(2, 'c')\n",
    "\n",
    "# and then add both the quantum and classical to the circuit\n",
    "#circuit = QuantumCircuit(qreg_q, creg_c)\n",
    "\n",
    "circuit = QuantumCircuit(qreg_q)\n",
    "\n",
    "# add individual gates\n",
    "circuit.ry(Omega*lbd**2, qreg_q[0])\n",
    "circuit.rz(omega*lbd**2, qreg_q[0])\n",
    "circuit.cx(qreg_q[0],qreg_q[1])\n",
    "circuit.cry(2*sqrt(kappa)*lbd, qreg_q[1], qreg_q[0])\n",
    "circuit.cx(qreg_q[0],qreg_q[1])\n",
    "\n",
    "# draw\n",
    "circuit.draw('mpl')"
   ]
  },
  {
   "cell_type": "code",
   "execution_count": 29,
   "metadata": {},
   "outputs": [
    {
     "data": {
      "image/png": "[encoded data removed]",
      "text/plain": [
       "<Figure size 267.052x144.48 with 1 Axes>"
      ]
     },
     "execution_count": 29,
     "metadata": {},
     "output_type": "execute_result"
    }
   ],
   "source": [
    "## Create circuit\n",
    "# we can convert the previous circuit to a custom gate\n",
    "U_vis = circuit.to_gate()\n",
    "U_vis.label = \"$U$\"\n",
    "# we can then add the new gate to a circuit many times\n",
    "qc_vis = QuantumCircuit(2)\n",
    "for i in range(3):\n",
    "    qc_vis.append(U_vis,[0,1])\n",
    "qc_vis.draw('mpl')"
   ]
  },
  {
   "cell_type": "markdown",
   "metadata": {},
   "source": [
    "# Statevector simulation"
   ]
  },
  {
   "cell_type": "code",
   "execution_count": 6,
   "metadata": {},
   "outputs": [],
   "source": [
    "# With Statevector we can impose an initial wavefunction\n",
    "# without having to worry about state preparation\n",
    "# which is usually non-trivial\n",
    "psi0 = Statevector.from_label('00')\n",
    "psi = psi0\n",
    "tdim = 100\n",
    "# occupation coefficients\n",
    "alpha0 = np.zeros(tdim)\n",
    "alpha1 = np.zeros(tdim)\n",
    "alpha2 = np.zeros(tdim)\n",
    "# evolve state in time\n",
    "for t in range(tdim):\n",
    "    # run circuit 1 time step\n",
    "    alpha0[t] = np.abs(psi.data[0])**2\n",
    "    alpha1[t] = np.abs(psi.data[2])**2\n",
    "    alpha2[t] = np.abs(psi.data[1])**2\n",
    "    psi = psi.evolve(qc_shi)\n",
    "# instead of saving the amplitude^2\n",
    "# we could have saved the entire wavefunction"
   ]
  },
  {
   "cell_type": "markdown",
   "metadata": {},
   "source": [
    "# qasm_simulator"
   ]
  },
  {
   "cell_type": "code",
   "execution_count": 7,
   "metadata": {},
   "outputs": [],
   "source": [
    "#qasm results\n",
    "alpha0_qasm = np.zeros(tdim)\n",
    "alpha1_qasm = np.zeros(tdim)\n",
    "alpha2_qasm = np.zeros(tdim)\n",
    "\n",
    "# use local simulator\n",
    "shots_qasm = nshots\n",
    "qasm_sim = Aer.get_backend('qasm_simulator')\n",
    "\n",
    "for t in range(tdim):\n",
    "    qreg_q = QuantumRegister(n, 'q')\n",
    "    circuit2 = QuantumCircuit(qreg_q)\n",
    "    for _ in range(t):\n",
    "        circuit2.append(U_shi,[0,1])\n",
    "    circuit2.measure_all()\n",
    "    circuit2 = circuit2.decompose()\n",
    "    #circuit2.draw('mpl')\n",
    "    \n",
    "    # run on qasm\n",
    "    qobj = assemble(circuit2, qasm_sim)\n",
    "    results = qasm_sim.run(qobj,shots=shots_qasm).result()\n",
    "    answer = results.get_counts()\n",
    "    # plot histogram\n",
    "    #plot_histogram(answer)\n",
    "\n",
    "    if '00' in answer:\n",
    "        alpha0_qasm[t] = answer['00']/shots_qasm\n",
    "    if '10' in answer:\n",
    "        alpha1_qasm[t] = answer['10']/shots_qasm\n",
    "    if '01' in answer:\n",
    "        alpha2_qasm[t] = answer['01']/shots_qasm"
   ]
  },
  {
   "cell_type": "markdown",
   "metadata": {},
   "source": [
    "We now prepare a list of circuits to be deployed to real quantum hardware"
   ]
  },
  {
   "cell_type": "code",
   "execution_count": 8,
   "metadata": {},
   "outputs": [],
   "source": [
    "maxN = 74\n",
    "qc_list = []\n",
    "for N in range(maxN+1):\n",
    "    \n",
    "    # create quantum circuit\n",
    "    qreg_q = QuantumRegister(n, 'q')\n",
    "    qc = QuantumCircuit(qreg_q)\n",
    "    \n",
    "    # add gate\n",
    "    for _ in range(0,N):\n",
    "        qc.append(U_shi,[0,1])\n",
    "    # add measure\n",
    "    qc.measure_all()\n",
    "    \n",
    "    # append qc to list\n",
    "    qc_list.append(qc)"
   ]
  },
  {
   "cell_type": "code",
   "execution_count": 10,
   "metadata": {},
   "outputs": [
    {
     "name": "stdout",
     "output_type": "stream",
     "text": [
      "backend:  ibmq_manila\n"
     ]
    }
   ],
   "source": [
    "# Load saved IBMQ accounts\n",
    "# IBMQ.save_account('TOKEN')\n",
    "IBMQ.load_account()\n",
    "from qiskit.tools.monitor import job_monitor\n",
    "#provider = IBMQ.get_provider(hub='ibm-q')\n",
    "#backend = provider.get_backend('ibmq_santiago')\n",
    "\n",
    "# Get the least busy backend device with greater than or equal to (n+1) qubits\n",
    "#provider = IBMQ.get_provider(hub='ibm-q')\n",
    "#backend = least_busy(provider.backends(filters=lambda x: x.configuration().n_qubits <= 5 and x.configuration().n_qubits >= 2 and\n",
    "#                                   not x.configuration().simulator and x.status().operational==True))\n",
    "#print(\"least busy backend: \", backend)\n",
    "\n",
    "provider = IBMQ.get_provider(hub='ibm-q')\n",
    "backend = provider.get_backend('ibmq_manila')\n",
    "print(\"backend: \", backend)"
   ]
  },
  {
   "cell_type": "code",
   "execution_count": 11,
   "metadata": {},
   "outputs": [
    {
     "name": "stdout",
     "output_type": "stream",
     "text": [
      "Job Status: job has successfully run\n"
     ]
    }
   ],
   "source": [
    "# Run with X shots\n",
    "shots_ibm = nshots\n",
    "t_qpe = transpile(qc_list, backend, optimization_level=3)\n",
    "qobj = assemble(t_qpe, shots=shots_ibm)\n",
    "job = backend.run(qobj)\n",
    "job_monitor(job, interval=2)"
   ]
  },
  {
   "cell_type": "code",
   "execution_count": 12,
   "metadata": {},
   "outputs": [],
   "source": [
    "ibm_res=job.result().get_counts()\n",
    "#for i in ibm_res:\n",
    "#    print(i)\n",
    "# save results to array\n",
    "alpha0_ibm = np.zeros(len(qc_list))\n",
    "alpha1_ibm = np.zeros(len(qc_list))\n",
    "alpha2_ibm = np.zeros(len(qc_list))\n",
    "\n",
    "for t in range(len(qc_list)):\n",
    "    answer = ibm_res[t]\n",
    "    if '00' in answer:\n",
    "        alpha0_ibm[t] = answer['00']/shots_ibm\n",
    "    if '10' in answer:\n",
    "        alpha1_ibm[t] = answer['10']/shots_ibm\n",
    "    if '01' in answer:\n",
    "        alpha2_ibm[t] = answer['01']/shots_ibm"
   ]
  },
  {
   "cell_type": "code",
   "execution_count": null,
   "metadata": {},
   "outputs": [],
   "source": [
    "# plot reproducing FIG2\n",
    "\n",
    "fig, axes= plt.subplots(nrows=3, ncols=2,figsize=(12,6))\n",
    "\n",
    "plt.subplot(321)\n",
    "plt.plot(alpha0,'k')\n",
    "plt.plot(alpha0_qasm,'o')\n",
    "plt.plot(alpha0_ibm,'.')\n",
    "plt.ylim([0,1])\n",
    "plt.xticks([])\n",
    "plt.ylabel(r'$|\\alpha_0|^2$')\n",
    "plt.subplot(323)\n",
    "plt.plot(alpha1,'k',label='state')\n",
    "plt.plot(alpha1_qasm,'o',label=r'qasm shots={}'.format(nshots))\n",
    "plt.plot(alpha1_ibm,'.',label=r'ibm shots={}'.format(nshots))\n",
    "plt.ylim([0,1])\n",
    "plt.xticks([])\n",
    "plt.legend(loc='best')\n",
    "plt.ylabel(r'$|\\alpha_1|^2$')\n",
    "plt.subplot(325)\n",
    "plt.plot(alpha2,'k')\n",
    "plt.plot(alpha2_qasm,'o')\n",
    "plt.plot(alpha2_ibm,'.')\n",
    "plt.ylim([0,1])\n",
    "plt.xlabel(r'$N$')\n",
    "plt.ylabel(r'$|\\alpha_2|^2$')\n",
    "\n",
    "# error\n",
    "plt.subplot(322)\n",
    "plt.plot(alpha0_qasm-alpha0,'o')\n",
    "plt.plot(alpha0_ibm-alpha0[:75],'.')\n",
    "plt.xticks([])\n",
    "plt.ylabel(r'$\\Delta |\\alpha_0|^2$')\n",
    "plt.ylim([-0.1,+0.1])\n",
    "plt.subplot(324)\n",
    "plt.plot(alpha1_qasm-alpha1,'o')\n",
    "plt.plot(alpha1_ibm-alpha1[:75],'.')\n",
    "plt.xticks([])\n",
    "plt.ylabel(r'$\\Delta |\\alpha_1|^2$')\n",
    "plt.ylim([-0.1,+0.1])\n",
    "plt.subplot(326)\n",
    "plt.plot(alpha2_qasm-alpha2,'o')\n",
    "plt.plot(alpha2_ibm-alpha2[:75],'.')\n",
    "plt.xticks([])\n",
    "plt.ylabel(r'$\\Delta |\\alpha_2|^2$')\n",
    "plt.ylim([-0.1,+0.1])\n",
    "\n",
    "plt.tight_layout()\n",
    "plt.savefig('shots_{}.pdf'.format(nshots))\n",
    "plt.show()"
   ]
  },
  {
   "cell_type": "code",
   "execution_count": null,
   "metadata": {},
   "outputs": [],
   "source": []
  }
 ],
 "metadata": {
  "kernelspec": {
   "display_name": "Python 3 (ipykernel)",
   "language": "python",
   "name": "python3"
  },
  "language_info": {
   "codemirror_mode": {
    "name": "ipython",
    "version": 3
   },
   "file_extension": ".py",
   "mimetype": "text/x-python",
   "name": "python",
   "nbconvert_exporter": "python",
   "pygments_lexer": "ipython3",
   "version": "3.10.13"
  }
 },
 "nbformat": 4,
 "nbformat_minor": 4
}
